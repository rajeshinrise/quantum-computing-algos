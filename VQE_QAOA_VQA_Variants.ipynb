{
 "cells": [
  {
   "cell_type": "markdown",
   "id": "a97edc08-9ab5-40ad-b015-263eeae48839",
   "metadata": {},
   "source": [
    "### Quantum Variational Algorithms for RNA Folding (or any QUBO/Ising Problem) ###\n",
    "\n",
    "We assume you already have an Ising Hamiltonian qubit_op and offset offset obtained from your QUBO problem (via qp.to_ising()).\n",
    "1. VQE Approach\n",
    "Variational Quantum Eigensolver (VQE) uses a parameterized ansatz circuit and classical optimizer to minimize the expected energy of the Hamiltonian.\n",
    "Key Steps:\n",
    "Construct an ansatz (parameterized circuit), e.g., RealAmplitudes or EfficientSU2.\n",
    "Choose an optimizer like COBYLA or SPSA.\n",
    "Use an estimator primitive (for simulation use StatevectorEstimator).\n",
    "Run VQE to find minimal eigenvalue (ground state energy).\n",
    "Code Example (Qiskit 2.1.x Style)"
   ]
  },
  {
   "cell_type": "code",
   "execution_count": 8,
   "id": "dbf1e4c8-2bfd-4c00-b10b-2669829eff4d",
   "metadata": {},
   "outputs": [
    {
     "name": "stderr",
     "output_type": "stream",
     "text": [
      "/var/folders/1l/g3s1ytv57hv98hl39w041lxm0000gp/T/ipykernel_2342/3771631530.py:16: DeprecationWarning: The class ``qiskit.circuit.library.n_local.real_amplitudes.RealAmplitudes`` is deprecated as of Qiskit 2.1. It will be removed in Qiskit 3.0. Use the function qiskit.circuit.library.real_amplitudes instead.\n",
      "  ansatz = RealAmplitudes(num_qubits=qubit_op.num_qubits, reps=2, entanglement='full')\n"
     ]
    },
    {
     "ename": "ImportError",
     "evalue": "cannot import name 'BaseSampler' from 'qiskit.primitives' (/opt/anaconda3/lib/python3.12/site-packages/qiskit/primitives/__init__.py)",
     "output_type": "error",
     "traceback": [
      "\u001b[0;31m---------------------------------------------------------------------------\u001b[0m",
      "\u001b[0;31mImportError\u001b[0m                               Traceback (most recent call last)",
      "Cell \u001b[0;32mIn[8], line 20\u001b[0m\n\u001b[1;32m     18\u001b[0m \u001b[38;5;66;03m# Primitives and VQE\u001b[39;00m\n\u001b[1;32m     19\u001b[0m \u001b[38;5;28;01mfrom\u001b[39;00m \u001b[38;5;21;01mqiskit\u001b[39;00m\u001b[38;5;21;01m.\u001b[39;00m\u001b[38;5;21;01mprimitives\u001b[39;00m \u001b[38;5;28;01mimport\u001b[39;00m StatevectorEstimator\n\u001b[0;32m---> 20\u001b[0m \u001b[38;5;28;01mfrom\u001b[39;00m \u001b[38;5;21;01mqiskit_algorithms\u001b[39;00m\u001b[38;5;21;01m.\u001b[39;00m\u001b[38;5;21;01mminimum_eigensolvers\u001b[39;00m \u001b[38;5;28;01mimport\u001b[39;00m VQE\n\u001b[1;32m     21\u001b[0m \u001b[38;5;28;01mfrom\u001b[39;00m \u001b[38;5;21;01mqiskit\u001b[39;00m\u001b[38;5;21;01m.\u001b[39;00m\u001b[38;5;21;01malgorithms\u001b[39;00m\u001b[38;5;21;01m.\u001b[39;00m\u001b[38;5;21;01moptimizers\u001b[39;00m \u001b[38;5;28;01mimport\u001b[39;00m COBYLA  \u001b[38;5;66;03m# or SPSA\u001b[39;00m\n\u001b[1;32m     23\u001b[0m estimator \u001b[38;5;241m=\u001b[39m StatevectorEstimator()\n",
      "File \u001b[0;32m/opt/anaconda3/lib/python3.12/site-packages/qiskit_algorithms/__init__.py:254\u001b[0m\n\u001b[1;32m    252\u001b[0m \u001b[38;5;28;01mfrom\u001b[39;00m \u001b[38;5;21;01m.\u001b[39;00m\u001b[38;5;21;01malgorithm_job\u001b[39;00m \u001b[38;5;28;01mimport\u001b[39;00m AlgorithmJob\n\u001b[1;32m    253\u001b[0m \u001b[38;5;28;01mfrom\u001b[39;00m \u001b[38;5;21;01m.\u001b[39;00m\u001b[38;5;21;01malgorithm_result\u001b[39;00m \u001b[38;5;28;01mimport\u001b[39;00m AlgorithmResult\n\u001b[0;32m--> 254\u001b[0m \u001b[38;5;28;01mfrom\u001b[39;00m \u001b[38;5;21;01m.\u001b[39;00m\u001b[38;5;21;01mvariational_algorithm\u001b[39;00m \u001b[38;5;28;01mimport\u001b[39;00m VariationalAlgorithm, VariationalResult\n\u001b[1;32m    255\u001b[0m \u001b[38;5;28;01mfrom\u001b[39;00m \u001b[38;5;21;01m.\u001b[39;00m\u001b[38;5;21;01mamplitude_amplifiers\u001b[39;00m \u001b[38;5;28;01mimport\u001b[39;00m Grover, GroverResult, AmplificationProblem, AmplitudeAmplifier\n\u001b[1;32m    256\u001b[0m \u001b[38;5;28;01mfrom\u001b[39;00m \u001b[38;5;21;01m.\u001b[39;00m\u001b[38;5;21;01mamplitude_estimators\u001b[39;00m \u001b[38;5;28;01mimport\u001b[39;00m (\n\u001b[1;32m    257\u001b[0m     AmplitudeEstimator,\n\u001b[1;32m    258\u001b[0m     AmplitudeEstimatorResult,\n\u001b[0;32m   (...)\u001b[0m\n\u001b[1;32m    267\u001b[0m     EstimationProblem,\n\u001b[1;32m    268\u001b[0m )\n",
      "File \u001b[0;32m/opt/anaconda3/lib/python3.12/site-packages/qiskit_algorithms/variational_algorithm.py:36\u001b[0m\n\u001b[1;32m     33\u001b[0m \u001b[38;5;28;01mfrom\u001b[39;00m \u001b[38;5;21;01mqiskit\u001b[39;00m\u001b[38;5;21;01m.\u001b[39;00m\u001b[38;5;21;01mcircuit\u001b[39;00m \u001b[38;5;28;01mimport\u001b[39;00m QuantumCircuit\n\u001b[1;32m     35\u001b[0m \u001b[38;5;28;01mfrom\u001b[39;00m \u001b[38;5;21;01m.\u001b[39;00m\u001b[38;5;21;01malgorithm_result\u001b[39;00m \u001b[38;5;28;01mimport\u001b[39;00m AlgorithmResult\n\u001b[0;32m---> 36\u001b[0m \u001b[38;5;28;01mfrom\u001b[39;00m \u001b[38;5;21;01m.\u001b[39;00m\u001b[38;5;21;01moptimizers\u001b[39;00m \u001b[38;5;28;01mimport\u001b[39;00m OptimizerResult\n\u001b[1;32m     39\u001b[0m \u001b[38;5;28;01mclass\u001b[39;00m \u001b[38;5;21;01mVariationalAlgorithm\u001b[39;00m(ABC):\n\u001b[1;32m     40\u001b[0m \u001b[38;5;250m    \u001b[39m\u001b[38;5;124;03m\"\"\"The Variational Algorithm Base Class.\"\"\"\u001b[39;00m\n",
      "File \u001b[0;32m/opt/anaconda3/lib/python3.12/site-packages/qiskit_algorithms/optimizers/__init__.py:139\u001b[0m\n\u001b[1;32m    137\u001b[0m \u001b[38;5;28;01mfrom\u001b[39;00m \u001b[38;5;21;01m.\u001b[39;00m\u001b[38;5;21;01mp_bfgs\u001b[39;00m \u001b[38;5;28;01mimport\u001b[39;00m P_BFGS\n\u001b[1;32m    138\u001b[0m \u001b[38;5;28;01mfrom\u001b[39;00m \u001b[38;5;21;01m.\u001b[39;00m\u001b[38;5;21;01mpowell\u001b[39;00m \u001b[38;5;28;01mimport\u001b[39;00m POWELL\n\u001b[0;32m--> 139\u001b[0m \u001b[38;5;28;01mfrom\u001b[39;00m \u001b[38;5;21;01m.\u001b[39;00m\u001b[38;5;21;01mqnspsa\u001b[39;00m \u001b[38;5;28;01mimport\u001b[39;00m QNSPSA\n\u001b[1;32m    140\u001b[0m \u001b[38;5;28;01mfrom\u001b[39;00m \u001b[38;5;21;01m.\u001b[39;00m\u001b[38;5;21;01mscipy_optimizer\u001b[39;00m \u001b[38;5;28;01mimport\u001b[39;00m SciPyOptimizer\n\u001b[1;32m    141\u001b[0m \u001b[38;5;28;01mfrom\u001b[39;00m \u001b[38;5;21;01m.\u001b[39;00m\u001b[38;5;21;01mslsqp\u001b[39;00m \u001b[38;5;28;01mimport\u001b[39;00m SLSQP\n",
      "File \u001b[0;32m/opt/anaconda3/lib/python3.12/site-packages/qiskit_algorithms/optimizers/qnspsa.py:23\u001b[0m\n\u001b[1;32m     20\u001b[0m \u001b[38;5;28;01mimport\u001b[39;00m \u001b[38;5;21;01mnumpy\u001b[39;00m \u001b[38;5;28;01mas\u001b[39;00m \u001b[38;5;21;01mnp\u001b[39;00m\n\u001b[1;32m     21\u001b[0m \u001b[38;5;28;01mfrom\u001b[39;00m \u001b[38;5;21;01mqiskit\u001b[39;00m\u001b[38;5;21;01m.\u001b[39;00m\u001b[38;5;21;01mcircuit\u001b[39;00m \u001b[38;5;28;01mimport\u001b[39;00m QuantumCircuit\n\u001b[0;32m---> 23\u001b[0m \u001b[38;5;28;01mfrom\u001b[39;00m \u001b[38;5;21;01mqiskit\u001b[39;00m\u001b[38;5;21;01m.\u001b[39;00m\u001b[38;5;21;01mprimitives\u001b[39;00m \u001b[38;5;28;01mimport\u001b[39;00m BaseSampler\n\u001b[1;32m     24\u001b[0m \u001b[38;5;28;01mfrom\u001b[39;00m \u001b[38;5;21;01mqiskit_algorithms\u001b[39;00m\u001b[38;5;21;01m.\u001b[39;00m\u001b[38;5;21;01mstate_fidelities\u001b[39;00m \u001b[38;5;28;01mimport\u001b[39;00m ComputeUncompute\n\u001b[1;32m     26\u001b[0m \u001b[38;5;28;01mfrom\u001b[39;00m \u001b[38;5;21;01m.\u001b[39;00m\u001b[38;5;21;01mspsa\u001b[39;00m \u001b[38;5;28;01mimport\u001b[39;00m SPSA, CALLBACK, TERMINATIONCHECKER, _batch_evaluate\n",
      "\u001b[0;31mImportError\u001b[0m: cannot import name 'BaseSampler' from 'qiskit.primitives' (/opt/anaconda3/lib/python3.12/site-packages/qiskit/primitives/__init__.py)"
     ]
    }
   ],
   "source": [
    "from qiskit_optimization import QuadraticProgram\n",
    "import numpy as np\n",
    "\n",
    "# Assume QUBO Q matrix defined here for problem\n",
    "Q = np.array([[-2, 1], [1, -2]])\n",
    "\n",
    "# Create QuadraticProgram, then convert to Ising operator\n",
    "qp = QuadraticProgram()\n",
    "qp.binary_var('x0')\n",
    "qp.binary_var('x1')\n",
    "qp.minimize(quadratic=Q, linear=[0, 0])\n",
    "qubit_op, offset = qp.to_ising()\n",
    "\n",
    "# Ansatz\n",
    "from qiskit.circuit.library import RealAmplitudes\n",
    "ansatz = RealAmplitudes(num_qubits=qubit_op.num_qubits, reps=2, entanglement='full')\n",
    "\n",
    "# Primitives and VQE\n",
    "from qiskit.primitives import StatevectorEstimator\n",
    "from qiskit_algorithms.minimum_eigensolvers import VQE\n",
    "from qiskit.algorithms.optimizers import COBYLA  # or SPSA\n",
    "\n",
    "estimator = StatevectorEstimator()\n",
    "optimizer = COBYLA(maxiter=200)    # or SPSA(maxiter=200)\n",
    "vqe_solver = VQE(ansatz=ansatz, optimizer=optimizer, estimator=estimator)\n",
    "\n",
    "result = vqe_solver.compute_minimum_eigenvalue(operator=qubit_op)\n",
    "energy = result.eigenvalue.real + offset\n",
    "print(f\"VQE approximate minimal free energy: {energy}\")\n",
    "print(f\"Optimal parameters: {result.optimal_parameters}\")\n"
   ]
  },
  {
   "cell_type": "markdown",
   "id": "677e02ee-afee-4b54-a369-8527f8102f35",
   "metadata": {},
   "source": [
    "### 2. QAOA Approach ###\n",
    "Quantum Approximate Optimization Algorithm (QAOA) applies alternating unitaries derived from:\n",
    "Cost Hamiltonian (problem Hamiltonian)\n",
    "Mixer Hamiltonian (usually, a transverse-field Hamiltonian)\n",
    "You specify a depth (number of alternations) p and optimize parameters to minimize energy.\n",
    "Code Example"
   ]
  },
  {
   "cell_type": "code",
   "execution_count": null,
   "id": "c40dc5b4-4eaf-477b-a85d-8035b4b1c954",
   "metadata": {},
   "outputs": [],
   "source": [
    "from qiskit_optimization import QuadraticProgram\n",
    "import numpy as np\n",
    "\n",
    "Q = np.array([[-2, 1], [1, -2]])\n",
    "qp = QuadraticProgram()\n",
    "qp.binary_var('x0')\n",
    "qp.binary_var('x1')\n",
    "qp.minimize(quadratic=Q, linear=[0, 0])\n",
    "qubit_op, offset = qp.to_ising()\n",
    "\n",
    "from qiskit_algorithms.minimum_eigensolvers import QAOA\n",
    "from qiskit.algorithms.optimizers import SPSA\n",
    "from qiskit.primitives import StatevectorSimulator  # For simulation\n",
    "\n",
    "# Setup optimizer and backend\n",
    "optimizer = SPSA(maxiter=100)\n",
    "backend = StatevectorSimulator()\n",
    "\n",
    "qaoa = QAOA(reps=3, optimizer=optimizer, quantum_instance=backend)\n",
    "\n",
    "# Run QAOA\n",
    "result = qaoa.compute_minimum_eigenvalue(operator=qubit_op)\n",
    "energy = result.eigenvalue.real + offset\n",
    "print(f\"QAOA approximate minimal free energy: {energy}\")\n",
    "print(f\"Optimal parameters: {result.optimal_point}\")\n"
   ]
  },
  {
   "cell_type": "markdown",
   "id": "bd4b64e5-8830-418e-b1ec-4acfe572330f",
   "metadata": {},
   "source": [
    "### 3. VQA Variants: Different Ansätze and Optimizers ###\n",
    "You can experiment with:\n",
    "Ansätze: RealAmplitudes, EfficientSU2, hardware-native custom ansatz, or manually constructed circuits.\n",
    "Optimizers: COBYLA, SPSA (good for noisy hardware), L_BFGS_B, Nelder-Mead, or classical optimizers from SciPy.\n",
    "Example with Different Ansatz and Optimizer"
   ]
  },
  {
   "cell_type": "code",
   "execution_count": null,
   "id": "4860593b-d04a-4096-a1db-0e2db447feba",
   "metadata": {},
   "outputs": [],
   "source": [
    "from qiskit.circuit.library import EfficientSU2\n",
    "from qiskit.algorithms.optimizers import SPSA\n",
    "\n",
    "ansatz = EfficientSU2(num_qubits=qubit_op.num_qubits, entanglement='linear', reps=3)\n",
    "optimizer = SPSA(maxiter=150)\n",
    "vqe_solver = VQE(ansatz=ansatz, optimizer=optimizer, estimator=StatevectorEstimator())\n",
    "\n",
    "result = vqe_solver.compute_minimum_eigenvalue(operator=qubit_op)\n",
    "energy = result.eigenvalue.real + offset\n",
    "print(f\"VQA with EfficientSU2 + SPSA energy: {energy}\")\n"
   ]
  }
 ],
 "metadata": {
  "kernelspec": {
   "display_name": "Python [conda env:base] *",
   "language": "python",
   "name": "conda-base-py"
  },
  "language_info": {
   "codemirror_mode": {
    "name": "ipython",
    "version": 3
   },
   "file_extension": ".py",
   "mimetype": "text/x-python",
   "name": "python",
   "nbconvert_exporter": "python",
   "pygments_lexer": "ipython3",
   "version": "3.12.2"
  }
 },
 "nbformat": 4,
 "nbformat_minor": 5
}

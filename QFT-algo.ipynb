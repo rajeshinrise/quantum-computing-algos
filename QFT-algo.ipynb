{
 "cells": [
  {
   "cell_type": "code",
   "execution_count": 16,
   "id": "eeebc384-3638-4f16-90fd-534b8cbf0d19",
   "metadata": {},
   "outputs": [
    {
     "name": "stdout",
     "output_type": "stream",
     "text": [
      "QFT circuit for 3 qubits:\n",
      "     ┌───┐                                        \n",
      "q_0: ┤ H ├─■────────■───────────────────────────X─\n",
      "     └───┘ │P(π/2)  │       ┌───┐               │ \n",
      "q_1: ──────■────────┼───────┤ H ├─■─────────────┼─\n",
      "                    │P(π/4) └───┘ │P(π/2) ┌───┐ │ \n",
      "q_2: ───────────────■─────────────■───────┤ H ├─X─\n",
      "                                          └───┘   \n"
     ]
    }
   ],
   "source": [
    "import numpy as np\n",
    "from qiskit import QuantumCircuit\n",
    "\n",
    "def qft(n):\n",
    "    \"\"\"\n",
    "    Constructs the Quantum Fourier Transform (QFT) circuit for n qubits.\n",
    "\n",
    "    Args:\n",
    "        n (int): The number of qubits for the QFT circuit.\n",
    "\n",
    "    Returns:\n",
    "        qiskit.QuantumCircuit: The QFT circuit.\n",
    "    \"\"\"\n",
    "    if n == 0:\n",
    "        return QuantumCircuit(0)\n",
    "\n",
    "    qc = QuantumCircuit(n)\n",
    "\n",
    "    # Apply the QFT rotations\n",
    "    for j in range(n):\n",
    "        qc.h(j)  #apply the Hardamard to evry qubit at start\n",
    "        for k in range(j + 1, n): # next unitl last qubit apply CP(theta,control-qubit,target-qubit)- control phase shift gate of \n",
    "            qc.cp(np.pi/2**(k-j), k, j)\n",
    "\n",
    "    # Swap the qubits to reverse the order\n",
    "    for i in range(n//2):\n",
    "        qc.swap(i, n-i-1)\n",
    "\n",
    "    qc.name = f\"QFT({n})\"\n",
    "    return qc\n",
    "\n",
    "# Example of creating and drawing a 3-qubit QFT circuit\n",
    "n_qubits = 3\n",
    "qft_circuit = qft(n_qubits)\n",
    "print(\"QFT circuit for 3 qubits:\")\n",
    "print(qft_circuit)"
   ]
  },
  {
   "cell_type": "code",
   "execution_count": 12,
   "id": "8b950539-3b0b-46cf-b432-7530c9ad2b72",
   "metadata": {},
   "outputs": [
    {
     "data": {
      "image/png": "[encoded data removed]",
      "text/plain": [
       "<Figure size 956.385x284.278 with 1 Axes>"
      ]
     },
     "execution_count": 12,
     "metadata": {},
     "output_type": "execute_result"
    }
   ],
   "source": [
    "from qiskit.visualization import *\n",
    "qft_circuit.draw('mpl')"
   ]
  }
 ],
 "metadata": {
  "kernelspec": {
   "display_name": "Python [conda env:base] *",
   "language": "python",
   "name": "conda-base-py"
  },
  "language_info": {
   "codemirror_mode": {
    "name": "ipython",
    "version": 3
   },
   "file_extension": ".py",
   "mimetype": "text/x-python",
   "name": "python",
   "nbconvert_exporter": "python",
   "pygments_lexer": "ipython3",
   "version": "3.12.2"
  }
 },
 "nbformat": 4,
 "nbformat_minor": 5
}

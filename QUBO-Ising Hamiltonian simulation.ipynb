{
 "cells": [
  {
   "cell_type": "markdown",
   "id": "2835ed00-5f6f-4aea-b5b8-a7f21035dde3",
   "metadata": {},
   "source": [
    "\n",
    "# Quadratic Unconstrained Binary Optimization (QUBO) and Its Connection to the Ising Model\n",
    "\n",
    "## What is a QUBO Problem?\n",
    "\n",
    "A **Quadratic Unconstrained Binary Optimization (QUBO) problem** is a mathematical optimization problem defined as:\n",
    "\n",
    "$$\n",
    "\\text{minimize: } x^T Q x\n",
    "$$\n",
    "\n",
    "- \\$ x \\$ is a vector of binary variables ($x_i \\in \\{0,1\\}$)\n",
    "- \\$ Q \\$ is a square matrix of real coefficients\n",
    "\n",
    "The problem is called \"unconstrained\" because only the binary nature of variables is enforced—there are no other constraints. QUBO problems commonly appear in combinatorial optimization, including tasks like scheduling, portfolio optimization, and, in your case, RNA secondary structure prediction[^1][^2].\n",
    "\n",
    "### QUBO Objective Function\n",
    "\n",
    "$$\n",
    "C(x) = \\sum_{i} Q_{ii} x_i + \\sum_{i < j} Q_{ij} x_i x_j\n",
    "$$\n",
    "\n",
    "The goal is to find the binary vector \\$ x \\$ that minimizes \\$ C(x) \\$.\n",
    "\n",
    "## QUBO to Ising Model Mapping\n",
    "\n",
    "Many quantum algorithms—especially those running on current quantum hardware—natively solve **Ising Hamiltonians**. The Ising model's variables are spin variables \\$ s_i \\in \\{-1, +1\\} \\$:\n",
    "\n",
    "$$\n",
    "H = \\sum_i h_i s_i + \\sum_{i<j} J_{ij} s_i s_j\n",
    "$$\n",
    "\n",
    "### Mapping Steps\n",
    "\n",
    "- Convert binary variables \\$ x_i \\in \\{0,1\\} \\$ to spin variables \\$ s_i \\in \\{-1, +1\\} \\$ with \\$ x_i = (1 + s_i)/2 \\$.\n",
    "- Rewrite the QUBO cost function in terms of \\$ s_i $. The resulting form will match the Ising Hamiltonian, with linear ($ h_i $) and pairwise ($ J_{ij} \\$) terms.\n",
    "- The problem of **minimizing the QUBO cost** is equivalent to **finding the ground state (lowest energy eigenstate) of the Ising Hamiltonian**.\n",
    "\n",
    "Quantum algorithms like the **Variational Quantum Eigensolver (VQE)** or **Quantum Annealing** can then be used to find the ground state of the Ising Hamiltonian, effectively solving the original QUBO[^1].\n",
    "\n",
    "## Example: QUBO to Ising Model in Python\n",
    "\n",
    "This example demonstrates:\n",
    "\n",
    "1. Definition of a simple QUBO problem\n",
    "2. Mapping to the Ising model\n",
    "3. Using Qiskit to check energies\n"
   ]
  },
  {
   "cell_type": "code",
   "execution_count": 2,
   "id": "841fa7a1-8637-4140-9624-373cb358ed66",
   "metadata": {
    "editable": true,
    "slideshow": {
     "slide_type": ""
    },
    "tags": []
   },
   "outputs": [
    {
     "name": "stdout",
     "output_type": "stream",
     "text": [
      "Ising Hamiltonian: SparsePauliOp(['IZ', 'ZZ', 'ZI'],\n",
      "              coeffs=[0.5+0.j, 0.5+0.j, 0.5+0.j])\n",
      "Offset: -1.5\n",
      "Minimum value (ground state energy): -2.0\n",
      "Optimal variable assignment: [0, 1]\n"
     ]
    }
   ],
   "source": [
    "from qiskit_optimization import QuadraticProgram\n",
    "import numpy as np\n",
    "\n",
    "# 1. Define your QUBO matrix\n",
    "Q = np.array([\n",
    "    [-2, 1],\n",
    "    [ 1, -2]\n",
    "])\n",
    "\n",
    "# 2. Create a Qiskit Optimization problem\n",
    "qp = QuadraticProgram()\n",
    "qp.binary_var('x0')\n",
    "qp.binary_var('x1')\n",
    "qp.minimize(quadratic=Q, linear=[0, 0])\n",
    "\n",
    "# 3. Convert to Ising Hamiltonian\n",
    "qubit_op, offset = qp.to_ising()\n",
    "print(f'Ising Hamiltonian: {qubit_op}')\n",
    "print(f'Offset: {offset}')\n",
    "\n",
    "# 4. Use scipy to find minimal solution directly (recommended for classical testing)\n",
    "from qiskit.quantum_info import SparsePauliOp\n",
    "from scipy.sparse.linalg import eigsh\n",
    "\n",
    "H_mat = qubit_op.to_matrix(sparse=True)\n",
    "eigvals, eigvecs = eigsh(H_mat, k=1, which='SA')\n",
    "ground_energy = eigvals[0].real + offset\n",
    "print(\"Minimum value (ground state energy):\", ground_energy)\n",
    "\n",
    "# DEMONSTRATE BITSTRING/SOLUTION: Map eigenvector back to variables\n",
    "# The bitstring with largest amplitude in ground state is your optimal assignment\n",
    "import numpy as np\n",
    "max_idx = np.argmax(np.abs(eigvecs[:, 0]))\n",
    "bit_fmt = f\"0{qubit_op.num_qubits}b\"\n",
    "sol_bits = format(max_idx, bit_fmt)\n",
    "opt_var_assignment = [int(x) for x in sol_bits[::-1]]\n",
    "print(\"Optimal variable assignment:\", opt_var_assignment)\n"
   ]
  },
  {
   "cell_type": "markdown",
   "id": "333a4d34-42c2-420b-b194-0452cbfd837d",
   "metadata": {},
   "source": []
  },
  {
   "cell_type": "code",
   "execution_count": null,
   "id": "4f401b84-d5d6-4696-976a-9a50a8e9db45",
   "metadata": {},
   "outputs": [],
   "source": []
  },
  {
   "cell_type": "markdown",
   "id": "25f55e02-9ae3-477b-80bf-78edb739d731",
   "metadata": {},
   "source": [
    "- Replace the Q matrix and number of variables for your specific problem.\n",
    "- This code shows how to use Qiskit to represent the QUBO, convert it to an Ising Hamiltonian, and solve for the lowest energy—either classically or (with minimal change) on real quantum hardware.\n",
    "\n",
    "\n",
    "## Summary Table: QUBO vs. Ising\n",
    "\n",
    "| QUBO Variable | Ising Variable | Mapping Formula | Quantum Algorithm Target |\n",
    "| :-- | :-- | :-- | :-- |\n",
    "| \\$ x_i \\in \\{0,1\\} \\$ | \\$ s_i \\in \\{-1, +1\\} \\$ | \\$ x_i = (1 + s_i)/2 \\$ | Find Ising ground state energy |\n",
    "\n",
    "## Conclusion\n",
    "\n",
    "- **QUBO problems**: Widely applicable, combinatorial, and defined over binary variables.\n",
    "- **Ising mapping**: Enables the use of quantum algorithms targeted at physical systems (qubits, spins).\n",
    "- **Quantum solution**: Quantum computers simulate or find the ground state of the Ising Hamiltonian, which gives the QUBO minimum[^1][^2]."
   ]
  },
  {
   "cell_type": "markdown",
   "id": "bac1550a-b028-445e-861f-5dedf15a20a8",
   "metadata": {},
   "source": [
    "## VQE Implementation for Ground State Approximation ##\n",
    "## Goal: ##\n",
    "Use a parameterized quantum circuit (“ansatz”) to approximate the ground state (minimal free energy solution) of your system Hamiltonian that encodes RNA folding as an Ising model. The VQE algorithm will iteratively update quantum circuit parameters to minimize the expected energy.\n",
    "- **Define the Problem Hamiltonian**\n",
    "Suppose you’ve already mapped your QUBO to an Ising Hamiltonian (PauliSumOp or SparsePauliOp object in Qiskit):"
   ]
  },
  {
   "cell_type": "code",
   "execution_count": 4,
   "id": "58dbd0e1-c863-4476-9ac9-ecc8d453a30d",
   "metadata": {},
   "outputs": [],
   "source": [
    "from qiskit_optimization import QuadraticProgram\n",
    "import numpy as np\n",
    "\n",
    "Q = np.array([\n",
    "    [-2, 1],\n",
    "    [1, -2]\n",
    "])\n",
    "qp = QuadraticProgram()\n",
    "qp.binary_var('x0')\n",
    "qp.binary_var('x1')\n",
    "qp.minimize(quadratic=Q, linear=[0, 0])\n",
    "hamiltonian, offset = qp.to_ising()\n"
   ]
  },
  {
   "cell_type": "markdown",
   "id": "77482c49-7149-4647-bc14-950a28bebfbe",
   "metadata": {},
   "source": [
    "- **2. Build a Parameterized Ansatz Circuit**\n",
    "A simple example (2 qubit Ry + CNOT):"
   ]
  },
  {
   "cell_type": "code",
   "execution_count": 27,
   "id": "73e34ce3-5d2a-420b-a630-c209d7c1bc74",
   "metadata": {},
   "outputs": [
    {
     "name": "stderr",
     "output_type": "stream",
     "text": [
      "/var/folders/1l/g3s1ytv57hv98hl39w041lxm0000gp/T/ipykernel_99900/523008681.py:5: DeprecationWarning: The class ``qiskit.circuit.library.n_local.efficient_su2.EfficientSU2`` is deprecated as of Qiskit 2.1. It will be removed in Qiskit 3.0. Use the function qiskit.circuit.library.efficient_su2 instead.\n",
      "  ansatz = EfficientSU2(num_qubits, reps=1)\n"
     ]
    },
    {
     "ename": "ImportError",
     "evalue": "cannot import name 'BaseSampler' from 'qiskit.primitives' (/opt/anaconda3/lib/python3.12/site-packages/qiskit/primitives/__init__.py)",
     "output_type": "error",
     "traceback": [
      "\u001b[0;31m---------------------------------------------------------------------------\u001b[0m",
      "\u001b[0;31mImportError\u001b[0m                               Traceback (most recent call last)",
      "Cell \u001b[0;32mIn[27], line 7\u001b[0m\n\u001b[1;32m      4\u001b[0m num_qubits \u001b[38;5;241m=\u001b[39m hamiltonian\u001b[38;5;241m.\u001b[39mnum_qubits\n\u001b[1;32m      5\u001b[0m ansatz \u001b[38;5;241m=\u001b[39m EfficientSU2(num_qubits, reps\u001b[38;5;241m=\u001b[39m\u001b[38;5;241m1\u001b[39m)\n\u001b[0;32m----> 7\u001b[0m \u001b[38;5;28;01mfrom\u001b[39;00m \u001b[38;5;21;01mqiskit_algorithms\u001b[39;00m\u001b[38;5;21;01m.\u001b[39;00m\u001b[38;5;21;01moptimizers\u001b[39;00m \u001b[38;5;28;01mimport\u001b[39;00m OptimizerResult\n\u001b[1;32m      8\u001b[0m \u001b[38;5;28;01mfrom\u001b[39;00m \u001b[38;5;21;01mqiskit_algorithms\u001b[39;00m\u001b[38;5;21;01m.\u001b[39;00m\u001b[38;5;21;01moptimizers\u001b[39;00m \u001b[38;5;28;01mimport\u001b[39;00m SPSA\n\u001b[1;32m     10\u001b[0m optimizer \u001b[38;5;241m=\u001b[39m SPSA(maxiter\u001b[38;5;241m=\u001b[39m\u001b[38;5;241m100\u001b[39m)\n",
      "File \u001b[0;32m/opt/anaconda3/lib/python3.12/site-packages/qiskit_algorithms/__init__.py:254\u001b[0m\n\u001b[1;32m    252\u001b[0m \u001b[38;5;28;01mfrom\u001b[39;00m \u001b[38;5;21;01m.\u001b[39;00m\u001b[38;5;21;01malgorithm_job\u001b[39;00m \u001b[38;5;28;01mimport\u001b[39;00m AlgorithmJob\n\u001b[1;32m    253\u001b[0m \u001b[38;5;28;01mfrom\u001b[39;00m \u001b[38;5;21;01m.\u001b[39;00m\u001b[38;5;21;01malgorithm_result\u001b[39;00m \u001b[38;5;28;01mimport\u001b[39;00m AlgorithmResult\n\u001b[0;32m--> 254\u001b[0m \u001b[38;5;28;01mfrom\u001b[39;00m \u001b[38;5;21;01m.\u001b[39;00m\u001b[38;5;21;01mvariational_algorithm\u001b[39;00m \u001b[38;5;28;01mimport\u001b[39;00m VariationalAlgorithm, VariationalResult\n\u001b[1;32m    255\u001b[0m \u001b[38;5;28;01mfrom\u001b[39;00m \u001b[38;5;21;01m.\u001b[39;00m\u001b[38;5;21;01mamplitude_amplifiers\u001b[39;00m \u001b[38;5;28;01mimport\u001b[39;00m Grover, GroverResult, AmplificationProblem, AmplitudeAmplifier\n\u001b[1;32m    256\u001b[0m \u001b[38;5;28;01mfrom\u001b[39;00m \u001b[38;5;21;01m.\u001b[39;00m\u001b[38;5;21;01mamplitude_estimators\u001b[39;00m \u001b[38;5;28;01mimport\u001b[39;00m (\n\u001b[1;32m    257\u001b[0m     AmplitudeEstimator,\n\u001b[1;32m    258\u001b[0m     AmplitudeEstimatorResult,\n\u001b[0;32m   (...)\u001b[0m\n\u001b[1;32m    267\u001b[0m     EstimationProblem,\n\u001b[1;32m    268\u001b[0m )\n",
      "File \u001b[0;32m/opt/anaconda3/lib/python3.12/site-packages/qiskit_algorithms/variational_algorithm.py:36\u001b[0m\n\u001b[1;32m     33\u001b[0m \u001b[38;5;28;01mfrom\u001b[39;00m \u001b[38;5;21;01mqiskit\u001b[39;00m\u001b[38;5;21;01m.\u001b[39;00m\u001b[38;5;21;01mcircuit\u001b[39;00m \u001b[38;5;28;01mimport\u001b[39;00m QuantumCircuit\n\u001b[1;32m     35\u001b[0m \u001b[38;5;28;01mfrom\u001b[39;00m \u001b[38;5;21;01m.\u001b[39;00m\u001b[38;5;21;01malgorithm_result\u001b[39;00m \u001b[38;5;28;01mimport\u001b[39;00m AlgorithmResult\n\u001b[0;32m---> 36\u001b[0m \u001b[38;5;28;01mfrom\u001b[39;00m \u001b[38;5;21;01m.\u001b[39;00m\u001b[38;5;21;01moptimizers\u001b[39;00m \u001b[38;5;28;01mimport\u001b[39;00m OptimizerResult\n\u001b[1;32m     39\u001b[0m \u001b[38;5;28;01mclass\u001b[39;00m \u001b[38;5;21;01mVariationalAlgorithm\u001b[39;00m(ABC):\n\u001b[1;32m     40\u001b[0m \u001b[38;5;250m    \u001b[39m\u001b[38;5;124;03m\"\"\"The Variational Algorithm Base Class.\"\"\"\u001b[39;00m\n",
      "File \u001b[0;32m/opt/anaconda3/lib/python3.12/site-packages/qiskit_algorithms/optimizers/__init__.py:139\u001b[0m\n\u001b[1;32m    137\u001b[0m \u001b[38;5;28;01mfrom\u001b[39;00m \u001b[38;5;21;01m.\u001b[39;00m\u001b[38;5;21;01mp_bfgs\u001b[39;00m \u001b[38;5;28;01mimport\u001b[39;00m P_BFGS\n\u001b[1;32m    138\u001b[0m \u001b[38;5;28;01mfrom\u001b[39;00m \u001b[38;5;21;01m.\u001b[39;00m\u001b[38;5;21;01mpowell\u001b[39;00m \u001b[38;5;28;01mimport\u001b[39;00m POWELL\n\u001b[0;32m--> 139\u001b[0m \u001b[38;5;28;01mfrom\u001b[39;00m \u001b[38;5;21;01m.\u001b[39;00m\u001b[38;5;21;01mqnspsa\u001b[39;00m \u001b[38;5;28;01mimport\u001b[39;00m QNSPSA\n\u001b[1;32m    140\u001b[0m \u001b[38;5;28;01mfrom\u001b[39;00m \u001b[38;5;21;01m.\u001b[39;00m\u001b[38;5;21;01mscipy_optimizer\u001b[39;00m \u001b[38;5;28;01mimport\u001b[39;00m SciPyOptimizer\n\u001b[1;32m    141\u001b[0m \u001b[38;5;28;01mfrom\u001b[39;00m \u001b[38;5;21;01m.\u001b[39;00m\u001b[38;5;21;01mslsqp\u001b[39;00m \u001b[38;5;28;01mimport\u001b[39;00m SLSQP\n",
      "File \u001b[0;32m/opt/anaconda3/lib/python3.12/site-packages/qiskit_algorithms/optimizers/qnspsa.py:23\u001b[0m\n\u001b[1;32m     20\u001b[0m \u001b[38;5;28;01mimport\u001b[39;00m \u001b[38;5;21;01mnumpy\u001b[39;00m \u001b[38;5;28;01mas\u001b[39;00m \u001b[38;5;21;01mnp\u001b[39;00m\n\u001b[1;32m     21\u001b[0m \u001b[38;5;28;01mfrom\u001b[39;00m \u001b[38;5;21;01mqiskit\u001b[39;00m\u001b[38;5;21;01m.\u001b[39;00m\u001b[38;5;21;01mcircuit\u001b[39;00m \u001b[38;5;28;01mimport\u001b[39;00m QuantumCircuit\n\u001b[0;32m---> 23\u001b[0m \u001b[38;5;28;01mfrom\u001b[39;00m \u001b[38;5;21;01mqiskit\u001b[39;00m\u001b[38;5;21;01m.\u001b[39;00m\u001b[38;5;21;01mprimitives\u001b[39;00m \u001b[38;5;28;01mimport\u001b[39;00m BaseSampler\n\u001b[1;32m     24\u001b[0m \u001b[38;5;28;01mfrom\u001b[39;00m \u001b[38;5;21;01mqiskit_algorithms\u001b[39;00m\u001b[38;5;21;01m.\u001b[39;00m\u001b[38;5;21;01mstate_fidelities\u001b[39;00m \u001b[38;5;28;01mimport\u001b[39;00m ComputeUncompute\n\u001b[1;32m     26\u001b[0m \u001b[38;5;28;01mfrom\u001b[39;00m \u001b[38;5;21;01m.\u001b[39;00m\u001b[38;5;21;01mspsa\u001b[39;00m \u001b[38;5;28;01mimport\u001b[39;00m SPSA, CALLBACK, TERMINATIONCHECKER, _batch_evaluate\n",
      "\u001b[0;31mImportError\u001b[0m: cannot import name 'BaseSampler' from 'qiskit.primitives' (/opt/anaconda3/lib/python3.12/site-packages/qiskit/primitives/__init__.py)"
     ]
    }
   ],
   "source": [
    "from qiskit.circuit.library import EfficientSU2\n",
    "\n",
    "# Example: EfficientSU2 ansatz for 2 qubits\n",
    "num_qubits = hamiltonian.num_qubits\n",
    "ansatz = EfficientSU2(num_qubits, reps=1)\n",
    "\n",
    "from qiskit_algorithms.optimizers import OptimizerResult\n",
    "from qiskit_algorithms.optimizers import SPSA\n",
    "\n",
    "optimizer = SPSA(maxiter=100)\n"
   ]
  },
  {
   "cell_type": "markdown",
   "id": "46d337c3-4546-4e34-b4d1-2ca0f782eeab",
   "metadata": {},
   "source": [
    "- **Run VQE Alog**\n"
   ]
  },
  {
   "cell_type": "code",
   "execution_count": 15,
   "id": "630d2731-1e92-42f9-aac2-169a2dcfcb5e",
   "metadata": {},
   "outputs": [
    {
     "name": "stderr",
     "output_type": "stream",
     "text": [
      "/var/folders/1l/g3s1ytv57hv98hl39w041lxm0000gp/T/ipykernel_99900/4032174478.py:2: DeprecationWarning: The class ``qiskit.circuit.library.n_local.real_amplitudes.RealAmplitudes`` is deprecated as of Qiskit 2.1. It will be removed in Qiskit 3.0. Use the function qiskit.circuit.library.real_amplitudes instead.\n",
      "  ansatz = RealAmplitudes(num_qubits=hamiltonian.num_qubits, reps=2, entanglement='full')\n"
     ]
    },
    {
     "ename": "ImportError",
     "evalue": "cannot import name 'Aer' from 'qiskit' (/opt/anaconda3/lib/python3.12/site-packages/qiskit/__init__.py)",
     "output_type": "error",
     "traceback": [
      "\u001b[0;31m---------------------------------------------------------------------------\u001b[0m",
      "\u001b[0;31mImportError\u001b[0m                               Traceback (most recent call last)",
      "Cell \u001b[0;32mIn[15], line 5\u001b[0m\n\u001b[1;32m      2\u001b[0m ansatz \u001b[38;5;241m=\u001b[39m RealAmplitudes(num_qubits\u001b[38;5;241m=\u001b[39mhamiltonian\u001b[38;5;241m.\u001b[39mnum_qubits, reps\u001b[38;5;241m=\u001b[39m\u001b[38;5;241m2\u001b[39m, entanglement\u001b[38;5;241m=\u001b[39m\u001b[38;5;124m'\u001b[39m\u001b[38;5;124mfull\u001b[39m\u001b[38;5;124m'\u001b[39m)\n\u001b[1;32m      4\u001b[0m \u001b[38;5;66;03m# Use Qiskit's legacy VQE with a statevector simulator and a classical optimizer\u001b[39;00m\n\u001b[0;32m----> 5\u001b[0m \u001b[38;5;28;01mfrom\u001b[39;00m \u001b[38;5;21;01mqiskit\u001b[39;00m \u001b[38;5;28;01mimport\u001b[39;00m Aer\n\u001b[1;32m      6\u001b[0m \u001b[38;5;28;01mfrom\u001b[39;00m \u001b[38;5;21;01mqiskit\u001b[39;00m\u001b[38;5;21;01m.\u001b[39;00m\u001b[38;5;21;01mutils\u001b[39;00m \u001b[38;5;28;01mimport\u001b[39;00m QuantumInstance\n\u001b[1;32m      7\u001b[0m \u001b[38;5;28;01mfrom\u001b[39;00m \u001b[38;5;21;01mqiskit\u001b[39;00m\u001b[38;5;21;01m.\u001b[39;00m\u001b[38;5;21;01malgorithms\u001b[39;00m \u001b[38;5;28;01mimport\u001b[39;00m VQE, MinimumEigensolverResult\n",
      "\u001b[0;31mImportError\u001b[0m: cannot import name 'Aer' from 'qiskit' (/opt/anaconda3/lib/python3.12/site-packages/qiskit/__init__.py)"
     ]
    }
   ],
   "source": [
    "from qiskit.circuit.library import RealAmplitudes\n",
    "ansatz = RealAmplitudes(num_qubits=hamiltonian.num_qubits, reps=2, entanglement='full')\n",
    "\n",
    "from qiskit.primitives import StatevectorEstimator\n",
    "from qiskit_algorithms import VQE\n",
    "from qiskit.algorithms.optimizers import COBYLA\n",
    "\n",
    "estimator = StatevectorEstimator()\n",
    "vqe_solver = VQE(ansatz=ansatz, optimizer=COBYLA(), estimator=estimator)\n",
    "result = vqe_solver.compute_minimum_eigenvalue(operator=qubit_op)\n",
    "energy = result.eigenvalue.real + offset\n",
    "print(\"Approximate ground state (minimal free energy):\", energy)"
   ]
  },
  {
   "cell_type": "code",
   "execution_count": 1,
   "id": "9997cde6-7c10-46f0-9ef1-8b1bc04b286c",
   "metadata": {},
   "outputs": [
    {
     "name": "stdout",
     "output_type": "stream",
     "text": [
      "2.1.1\n"
     ]
    }
   ],
   "source": [
    "import qiskit\n",
    "print(qiskit.__version__)\n"
   ]
  },
  {
   "cell_type": "code",
   "execution_count": null,
   "id": "374384f4-e357-4f0d-9a85-e5f82d49b154",
   "metadata": {},
   "outputs": [],
   "source": []
  }
 ],
 "metadata": {
  "kernelspec": {
   "display_name": "Python [conda env:base] *",
   "language": "python",
   "name": "conda-base-py"
  },
  "language_info": {
   "codemirror_mode": {
    "name": "ipython",
    "version": 3
   },
   "file_extension": ".py",
   "mimetype": "text/x-python",
   "name": "python",
   "nbconvert_exporter": "python",
   "pygments_lexer": "ipython3",
   "version": "3.12.2"
  }
 },
 "nbformat": 4,
 "nbformat_minor": 5
}

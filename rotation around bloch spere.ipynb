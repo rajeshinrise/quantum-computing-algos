{
 "cells": [
  {
   "cell_type": "markdown",
   "id": "09e0c0e9-9a23-4b9e-9f5f-6bc329a41d4c",
   "metadata": {},
   "source": [
    "# rotation around bloch spere\n",
    "\n",
    "https://www.youtube.com/watch?v=rD_fH7O-D5Y"
   ]
  }
 ],
 "metadata": {
  "kernelspec": {
   "display_name": "Python [conda env:base] *",
   "language": "python",
   "name": "conda-base-py"
  },
  "language_info": {
   "codemirror_mode": {
    "name": "ipython",
    "version": 3
   },
   "file_extension": ".py",
   "mimetype": "text/x-python",
   "name": "python",
   "nbconvert_exporter": "python",
   "pygments_lexer": "ipython3",
   "version": "3.12.2"
  }
 },
 "nbformat": 4,
 "nbformat_minor": 5
}

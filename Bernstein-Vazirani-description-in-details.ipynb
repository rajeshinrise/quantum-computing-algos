{
 "cells": [
  {
   "cell_type": "markdown",
   "id": "bb606228-1da5-484b-ad69-218d667a4a02",
   "metadata": {},
   "source": [
    "# Adding question 1 from assign 3 (Bernstein-Vazirani)\n",
    "## 1. Preliminaries: Setup and Imports\n",
    "## First, let's start with the necessary imports from Qiskit."
   ]
  },
  {
   "cell_type": "code",
   "execution_count": 6,
   "id": "9d351fc7-59d5-4d0b-9191-0c024a5b595c",
   "metadata": {},
   "outputs": [
    {
     "name": "stdout",
     "output_type": "stream",
     "text": [
      "Collecting qiskit-aer\n",
      "  Downloading qiskit_aer-0.17.1-cp313-cp313-macosx_11_0_arm64.whl.metadata (8.3 kB)\n",
      "Requirement already satisfied: qiskit>=1.1.0 in /opt/anaconda3/envs/quiskit/lib/python3.13/site-packages (from qiskit-aer) (1.4.2)\n",
      "Requirement already satisfied: numpy>=1.16.3 in /opt/anaconda3/envs/quiskit/lib/python3.13/site-packages (from qiskit-aer) (2.2.4)\n",
      "Requirement already satisfied: scipy>=1.0 in /opt/anaconda3/envs/quiskit/lib/python3.13/site-packages (from qiskit-aer) (1.15.2)\n",
      "Requirement already satisfied: psutil>=5 in /opt/anaconda3/envs/quiskit/lib/python3.13/site-packages (from qiskit-aer) (5.9.0)\n",
      "Requirement already satisfied: python-dateutil>=2.8.0 in /opt/anaconda3/envs/quiskit/lib/python3.13/site-packages (from qiskit-aer) (2.9.0.post0)\n",
      "Requirement already satisfied: six>=1.5 in /opt/anaconda3/envs/quiskit/lib/python3.13/site-packages (from python-dateutil>=2.8.0->qiskit-aer) (1.16.0)\n",
      "Requirement already satisfied: rustworkx>=0.15.0 in /opt/anaconda3/envs/quiskit/lib/python3.13/site-packages (from qiskit>=1.1.0->qiskit-aer) (0.16.0)\n",
      "Requirement already satisfied: sympy>=1.3 in /opt/anaconda3/envs/quiskit/lib/python3.13/site-packages (from qiskit>=1.1.0->qiskit-aer) (1.13.3)\n",
      "Requirement already satisfied: dill>=0.3 in /opt/anaconda3/envs/quiskit/lib/python3.13/site-packages (from qiskit>=1.1.0->qiskit-aer) (0.3.9)\n",
      "Requirement already satisfied: stevedore>=3.0.0 in /opt/anaconda3/envs/quiskit/lib/python3.13/site-packages (from qiskit>=1.1.0->qiskit-aer) (5.4.1)\n",
      "Requirement already satisfied: typing-extensions in /opt/anaconda3/envs/quiskit/lib/python3.13/site-packages (from qiskit>=1.1.0->qiskit-aer) (4.12.2)\n",
      "Requirement already satisfied: symengine<0.14,>=0.11 in /opt/anaconda3/envs/quiskit/lib/python3.13/site-packages (from qiskit>=1.1.0->qiskit-aer) (0.13.0)\n",
      "Requirement already satisfied: pbr>=2.0.0 in /opt/anaconda3/envs/quiskit/lib/python3.13/site-packages (from stevedore>=3.0.0->qiskit>=1.1.0->qiskit-aer) (6.1.1)\n",
      "Requirement already satisfied: mpmath<1.4,>=1.1.0 in /opt/anaconda3/envs/quiskit/lib/python3.13/site-packages (from sympy>=1.3->qiskit>=1.1.0->qiskit-aer) (1.3.0)\n",
      "Requirement already satisfied: setuptools in /opt/anaconda3/envs/quiskit/lib/python3.13/site-packages (from pbr>=2.0.0->stevedore>=3.0.0->qiskit>=1.1.0->qiskit-aer) (75.8.0)\n",
      "Downloading qiskit_aer-0.17.1-cp313-cp313-macosx_11_0_arm64.whl (2.2 MB)\n",
      "\u001b[2K   \u001b[90m━━━━━━━━━━━━━━━━━━━━━━━━━━━━━━━━━━━━━━━━\u001b[0m \u001b[32m2.2/2.2 MB\u001b[0m \u001b[31m293.8 kB/s\u001b[0m eta \u001b[36m0:00:00\u001b[0ma \u001b[36m0:00:02\u001b[0m\n",
      "\u001b[?25hInstalling collected packages: qiskit-aer\n",
      "Successfully installed qiskit-aer-0.17.1\n",
      "Note: you may need to restart the kernel to use updated packages.\n"
     ]
    }
   ],
   "source": [
    "%pip install qiskit-aer"
   ]
  },
  {
   "cell_type": "code",
   "execution_count": 7,
   "id": "7120b786-88e7-44ad-95cf-45e8d0f7866c",
   "metadata": {},
   "outputs": [],
   "source": [
    "# Import necessary libraries from Qiskit\n",
    "import numpy as np\n",
    "from qiskit import QuantumCircuit, transpile\n",
    "from qiskit_aer import AerSimulator\n",
    "# from qiskit.providers.aer import AerSimulator\n",
    "# from qiskit.visualization import plot_histogram, plot_circuit\n",
    "from qiskit.visualization import *\n",
    "from qiskit.result import Counts"
   ]
  },
  {
   "cell_type": "markdown",
   "id": "302d6c81-89e5-4a04-91ff-9dd48aa12da0",
   "metadata": {},
   "source": [
    "## 2. Define the Secret String and Circuit\n",
    "\n",
    "### Here, we define our hidden bitstring \"s\". You can change this string to any binary string, and the algorithm will still find it. The length of this string determines the number of qubits we'll need."
   ]
  },
  {
   "cell_type": "code",
   "execution_count": 12,
   "id": "3f4412d5-ad65-410d-b18f-2d3f54cd3165",
   "metadata": {},
   "outputs": [],
   "source": [
    "# Define the hidden bitstring 's'\n",
    "secret_string = '101101'\n",
    "n = len(secret_string)\n",
    "\n",
    "# The number of qubits will be n (for the input) + 1 (for the oracle's workspace)\n",
    "# The number of classical bits will be n (to store the measurement result)\n",
    "bv_circuit = QuantumCircuit(n + 1, n)"
   ]
  },
  {
   "cell_type": "markdown",
   "id": "eeea2921-6e68-4814-91ca-82fcb0259a6b",
   "metadata": {},
   "source": [
    "# 3. We will implement the Bernstein-Vazirani algorithm\n",
    "## Step 1: Initialize the register in the state ∣0⟩ ⊗n"
   ]
  },
  {
   "cell_type": "code",
   "execution_count": 17,
   "id": "89cfbf06-2061-464c-acbf-d148e1825c0f",
   "metadata": {},
   "outputs": [
    {
     "data": {
      "text/plain": [
       "CircuitInstruction(operation=Instruction(name='barrier', num_qubits=7, num_clbits=0, params=[]), qubits=(Qubit(QuantumRegister(7, 'q'), 0), Qubit(QuantumRegister(7, 'q'), 1), Qubit(QuantumRegister(7, 'q'), 2), Qubit(QuantumRegister(7, 'q'), 3), Qubit(QuantumRegister(7, 'q'), 4), Qubit(QuantumRegister(7, 'q'), 5), Qubit(QuantumRegister(7, 'q'), 6)), clbits=())"
      ]
     },
     "execution_count": 17,
     "metadata": {},
     "output_type": "execute_result"
    }
   ],
   "source": [
    "# Prepare the ancilla qubit in the |-> state by applying X and H gates\n",
    "bv_circuit.x(n) # Apply X gate to the last qubit (ancilla)\n",
    "bv_circuit.h(n) # Apply Hadamard gate to the last qubit (ancilla)\n",
    "\n",
    "bv_circuit.barrier() # Add a barrier for visual clarity"
   ]
  },
  {
   "cell_type": "markdown",
   "id": "8960762f-d6c1-4232-bfef-6a6c945dde16",
   "metadata": {},
   "source": [
    "### Step 2: Apply Hadamard gates to all (data) qubits\n",
    "\n",
    "### We apply the Hadamard gate to each of the n data qubits to put them in a superposition of all possible computational basis states.  H "
   ]
  },
  {
   "cell_type": "code",
   "execution_count": 22,
   "id": "364868e6-466a-4ce4-a89f-6ffa017758a0",
   "metadata": {},
   "outputs": [
    {
     "data": {
      "text/plain": [
       "CircuitInstruction(operation=Instruction(name='barrier', num_qubits=7, num_clbits=0, params=[]), qubits=(Qubit(QuantumRegister(7, 'q'), 0), Qubit(QuantumRegister(7, 'q'), 1), Qubit(QuantumRegister(7, 'q'), 2), Qubit(QuantumRegister(7, 'q'), 3), Qubit(QuantumRegister(7, 'q'), 4), Qubit(QuantumRegister(7, 'q'), 5), Qubit(QuantumRegister(7, 'q'), 6)), clbits=())"
      ]
     },
     "execution_count": 22,
     "metadata": {},
     "output_type": "execute_result"
    }
   ],
   "source": [
    "# Apply Hadamard gates to the first n qubits\n",
    "for i in range(n):\n",
    "    bv_circuit.h(i)\n",
    "\n",
    "bv_circuit.barrier() # Add a barrier for visual clarity"
   ]
  },
  {
   "cell_type": "markdown",
   "id": "f264232d-343e-49eb-814b-b24a219ee35d",
   "metadata": {},
   "source": [
    "### Step 3: Apply the phase oracle Uf\n",
    "### The oracle, Uf, marks the solution by flipping the phase of the state corresponding to the secret string. It performs the transformation: Uf∣x⟩=(−1)^s⋅x ∣x⟩\n",
    "\n",
    "### In a circuit, this is implemented by applying a CNOT gate from each qubit i (where the i-th bit of s is 1) to the ancilla qubit. Note that Qiskit orders qubits from right to left (q0,q1\t,…), so we reverse the secret string for our loop."
   ]
  },
  {
   "cell_type": "code",
   "execution_count": 27,
   "id": "4a47899a-8ac8-4372-a3cf-1749a0cabe6b",
   "metadata": {},
   "outputs": [
    {
     "data": {
      "text/plain": [
       "CircuitInstruction(operation=Instruction(name='barrier', num_qubits=7, num_clbits=0, params=[]), qubits=(Qubit(QuantumRegister(7, 'q'), 0), Qubit(QuantumRegister(7, 'q'), 1), Qubit(QuantumRegister(7, 'q'), 2), Qubit(QuantumRegister(7, 'q'), 3), Qubit(QuantumRegister(7, 'q'), 4), Qubit(QuantumRegister(7, 'q'), 5), Qubit(QuantumRegister(7, 'q'), 6)), clbits=())"
      ]
     },
     "execution_count": 27,
     "metadata": {},
     "output_type": "execute_result"
    }
   ],
   "source": [
    "# Create the oracle U_f\n",
    "# We reverse the string to match Qiskit's little-endian bit ordering\n",
    "s_reversed = secret_string[::-1] \n",
    "for i, bit in enumerate(s_reversed):\n",
    "    if bit == '1':\n",
    "        bv_circuit.cx(i, n) # Apply CNOT from data qubit i to the ancilla\n",
    "\n",
    "bv_circuit.barrier() # Add a barrier for visual clarity"
   ]
  },
  {
   "cell_type": "markdown",
   "id": "25809c9f-ce20-4794-8551-afaaf3aaf44a",
   "metadata": {},
   "source": [
    "### Step 4: Apply Hadamard gates again\n",
    "\n",
    "### Applying the Hadamard gates again to the data qubits transforms the phase-encoded information back into a computational basis state."
   ]
  },
  {
   "cell_type": "code",
   "execution_count": 30,
   "id": "a16fdd72-abcc-44e9-af58-f2025bf2718c",
   "metadata": {},
   "outputs": [],
   "source": [
    "# Apply Hadamard gates to the first n qubits again\n",
    "for i in range(n):\n",
    "    bv_circuit.h(i)"
   ]
  },
  {
   "cell_type": "markdown",
   "id": "fe12a771-a2ec-4ca3-b8eb-957e9f8518db",
   "metadata": {},
   "source": [
    "### Step 5: Measure the n-qubit register\n",
    "\n",
    "### Finally, we measure the first n qubits. The result of this measurement will be the secret bitstring s with 100% probability (in an ideal quantum computer)"
   ]
  },
  {
   "cell_type": "code",
   "execution_count": 33,
   "id": "90f30942-e26c-4411-a63d-75095f4e4ead",
   "metadata": {},
   "outputs": [
    {
     "data": {
      "text/plain": [
       "<qiskit.circuit.instructionset.InstructionSet at 0x123d2df30>"
      ]
     },
     "execution_count": 33,
     "metadata": {},
     "output_type": "execute_result"
    }
   ],
   "source": [
    "# Measure the first n qubits\n",
    "bv_circuit.measure(range(n), range(n))"
   ]
  },
  {
   "cell_type": "markdown",
   "id": "3f0723a1-6bd6-4b30-bae4-eb684aba87ed",
   "metadata": {},
   "source": [
    "### 4. Visualize the Circuit\n",
    "\n",
    "### Let's see what our complete quantum circuit looks like."
   ]
  },
  {
   "cell_type": "code",
   "execution_count": 36,
   "id": "ed046f58-9e05-4a55-aede-eac013df00aa",
   "metadata": {},
   "outputs": [
    {
     "data": {
      "image/png": "[encoded data removed]",
      "text/plain": [
       "<Figure size 1541.66x702.333 with 1 Axes>"
      ]
     },
     "execution_count": 36,
     "metadata": {},
     "output_type": "execute_result"
    }
   ],
   "source": [
    "# Draw the circuit\n",
    "bv_circuit.draw('mpl')"
   ]
  },
  {
   "cell_type": "markdown",
   "id": "6d208d80-0119-461f-8238-d97ace8eb374",
   "metadata": {},
   "source": [
    "### 5. Simulate the Circuit and Get Results\n",
    "\n",
    "### We will now run the circuit on a quantum simulator to verify the outcome."
   ]
  },
  {
   "cell_type": "code",
   "execution_count": 39,
   "id": "d690f7ac-e1ce-4c34-8b68-bd060d045554",
   "metadata": {},
   "outputs": [
    {
     "name": "stdout",
     "output_type": "stream",
     "text": [
      "The secret string is: 101101\n",
      "The result from the quantum computer is: 101101\n",
      "\n",
      "Counts dictionary: {'101101': 1}\n"
     ]
    },
    {
     "data": {
      "image/png": "[encoded data removed]",
      "text/plain": [
       "<Figure size 640x480 with 1 Axes>"
      ]
     },
     "execution_count": 39,
     "metadata": {},
     "output_type": "execute_result"
    }
   ],
   "source": [
    "# Use the AerSimulator\n",
    "simulator = AerSimulator()\n",
    "\n",
    "# Transpile the circuit for the simulator\n",
    "compiled_circuit = transpile(bv_circuit, simulator)\n",
    "\n",
    "# Run the simulation\n",
    "job = simulator.run(compiled_circuit, shots=1) # Only 1 shot is needed as the result is deterministic\n",
    "\n",
    "# Get the results\n",
    "result = job.result()\n",
    "counts = result.get_counts()\n",
    "\n",
    "# Print the secret string and the result from the quantum computer\n",
    "print(f\"The secret string is: {secret_string}\")\n",
    "print(f\"The result from the quantum computer is: {list(counts.keys())[0]}\")\n",
    "print(\"\\nCounts dictionary:\", counts)\n",
    "\n",
    "# Plot the results as a histogram\n",
    "plot_histogram(counts)"
   ]
  },
  {
   "cell_type": "markdown",
   "id": "b0f90e39-4721-4efe-b503-27fe7dccb929",
   "metadata": {},
   "source": [
    "# Q1 Dynamic secret bitstring: Modify the existing tutorial so that the secret string s can be input dynamically (of any length n). Update the circuit construction code to use the bits of s in the oracle and verify that measuring the output qubits recovers s. Test with several random secrets and increasing n. This demonstrates the signature property that the quantum algorithm finds the n-bit secret in one shot (whereas a classical procedure needs n queries)\n",
    "\n",
    "## The above algo solves this with dynamic string \"s\" as input"
   ]
  },
  {
   "cell_type": "markdown",
   "id": "ecf2a026-f824-4991-87e1-26c91b9c7578",
   "metadata": {},
   "source": [
    "# Q2: Alternative Oracle using Phase Kickback: Replace the standard CNOT-based oracle with a phase oracle. Show that this “phase kickback” version yields the same measured result bits as the original (i.e. the secret string) after the final Hadamards. This tests the understanding of different oracles constructions that encode svia phase instead of X-flips. Write your views on how this phase oracle will be beneficial as compared to the previous one(CNOT’s one)."
   ]
  },
  {
   "cell_type": "markdown",
   "id": "07a3d160-9ae7-4864-a7b6-df4310c8d35c",
   "metadata": {},
   "source": [
    "### Lets solve the Q2 above"
   ]
  },
  {
   "cell_type": "code",
   "execution_count": null,
   "id": "4987293a-97c9-46cb-abe7-e97b9642f9db",
   "metadata": {},
   "outputs": [],
   "source": []
  }
 ],
 "metadata": {
  "kernelspec": {
   "display_name": "Python [conda env:quiskit]",
   "language": "python",
   "name": "conda-env-quiskit-py"
  },
  "language_info": {
   "codemirror_mode": {
    "name": "ipython",
    "version": 3
   },
   "file_extension": ".py",
   "mimetype": "text/x-python",
   "name": "python",
   "nbconvert_exporter": "python",
   "pygments_lexer": "ipython3",
   "version": "3.13.2"
  }
 },
 "nbformat": 4,
 "nbformat_minor": 5
}
